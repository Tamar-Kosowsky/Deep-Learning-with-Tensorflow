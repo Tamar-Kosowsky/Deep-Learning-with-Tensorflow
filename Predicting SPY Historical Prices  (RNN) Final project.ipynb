{
 "cells": [
  {
   "cell_type": "markdown",
   "id": "9fb7a00a",
   "metadata": {},
   "source": [
    "# Import libraries"
   ]
  },
  {
   "cell_type": "code",
   "execution_count": 1,
   "id": "9fcd8ceb",
   "metadata": {},
   "outputs": [],
   "source": [
    "import time\n",
    "import joblib\n",
    "import warnings\n",
    "import pandas as pd\n",
    "import numpy as np\n",
    "import seaborn as sns\n",
    "import matplotlib.pyplot as plt\n",
    "%matplotlib inline\n",
    "from sklearn.preprocessing import MinMaxScaler\n",
    "import tensorflow as tf\n",
    "from tensorflow.keras.models import Sequential\n",
    "from tensorflow.keras.layers import LSTM, GRU, Dropout, Dense\n",
    "from tensorflow.keras.preprocessing.sequence import TimeseriesGenerator\n",
    "from tensorflow.keras.callbacks import EarlyStopping\n",
    "from sklearn.metrics import mean_squared_error, mean_absolute_error"
   ]
  },
  {
   "cell_type": "code",
   "execution_count": 2,
   "id": "5c5df739",
   "metadata": {},
   "outputs": [],
   "source": [
    "# Ignore warnings\n",
    "warnings.filterwarnings(\"ignore\")\n",
    "\n",
    "# Display a warning message\n",
    "warnings.warn(\"this will not show\")\n",
    "\n",
    "# Set the figure size for plots\n",
    "plt.rcParams[\"figure.figsize\"] = (10,6)\n",
    "\n",
    "# Set the style for seaborn plots\n",
    "sns.set_style(\"whitegrid\")\n",
    "\n",
    "# Set the display format for floating-point numbers in dataframes\n",
    "pd.set_option('display.float_format', lambda x: '%.3f' % x)\n",
    "\n",
    "# Display all columns in the dataframe\n",
    "pd.set_option('display.max_columns', None)"
   ]
  },
  {
   "cell_type": "markdown",
   "id": "37a33461",
   "metadata": {},
   "source": [
    "# Data Acquisition"
   ]
  },
  {
   "cell_type": "code",
   "execution_count": 3,
   "id": "e5e0f841",
   "metadata": {},
   "outputs": [],
   "source": [
    "# Read the data from the 'SPY.csv' file\n",
    "# Set the 'Date' column as the index and parse the dates\n",
    "# Drop the unnecessary columns: 'Open', 'High', 'Low', 'Adj Close', 'Volume'\n",
    "spy_data = pd.read_csv('SPY.csv',\n",
    "                       index_col='Date',\n",
    "                       parse_dates=True\n",
    "                      ).drop(columns=['Open', 'High', 'Low', 'Adj Close', 'Volume'], axis=1)\n"
   ]
  },
  {
   "cell_type": "markdown",
   "id": "5af58308",
   "metadata": {},
   "source": [
    "# Data Preprocessing"
   ]
  },
  {
   "cell_type": "code",
   "execution_count": 4,
   "id": "474fe227",
   "metadata": {},
   "outputs": [
    {
     "data": {
      "text/html": [
       "<div>\n",
       "<style scoped>\n",
       "    .dataframe tbody tr th:only-of-type {\n",
       "        vertical-align: middle;\n",
       "    }\n",
       "\n",
       "    .dataframe tbody tr th {\n",
       "        vertical-align: top;\n",
       "    }\n",
       "\n",
       "    .dataframe thead th {\n",
       "        text-align: right;\n",
       "    }\n",
       "</style>\n",
       "<table border=\"1\" class=\"dataframe\">\n",
       "  <thead>\n",
       "    <tr style=\"text-align: right;\">\n",
       "      <th></th>\n",
       "      <th>Close</th>\n",
       "    </tr>\n",
       "    <tr>\n",
       "      <th>Date</th>\n",
       "      <th></th>\n",
       "    </tr>\n",
       "  </thead>\n",
       "  <tbody>\n",
       "    <tr>\n",
       "      <th>2018-09-20</th>\n",
       "      <td>293.580</td>\n",
       "    </tr>\n",
       "    <tr>\n",
       "      <th>2018-09-21</th>\n",
       "      <td>291.990</td>\n",
       "    </tr>\n",
       "    <tr>\n",
       "      <th>2018-09-24</th>\n",
       "      <td>291.020</td>\n",
       "    </tr>\n",
       "    <tr>\n",
       "      <th>2018-09-25</th>\n",
       "      <td>290.750</td>\n",
       "    </tr>\n",
       "    <tr>\n",
       "      <th>2018-09-26</th>\n",
       "      <td>289.880</td>\n",
       "    </tr>\n",
       "  </tbody>\n",
       "</table>\n",
       "</div>"
      ],
      "text/plain": [
       "             Close\n",
       "Date              \n",
       "2018-09-20 293.580\n",
       "2018-09-21 291.990\n",
       "2018-09-24 291.020\n",
       "2018-09-25 290.750\n",
       "2018-09-26 289.880"
      ]
     },
     "execution_count": 4,
     "metadata": {},
     "output_type": "execute_result"
    }
   ],
   "source": [
    "spy_data.head()"
   ]
  },
  {
   "cell_type": "code",
   "execution_count": 5,
   "id": "390fbe67",
   "metadata": {},
   "outputs": [
    {
     "data": {
      "text/plain": [
       "(1257, 1)"
      ]
     },
     "execution_count": 5,
     "metadata": {},
     "output_type": "execute_result"
    }
   ],
   "source": [
    "spy_data.shape"
   ]
  },
  {
   "cell_type": "code",
   "execution_count": 6,
   "id": "f566f800",
   "metadata": {},
   "outputs": [
    {
     "name": "stdout",
     "output_type": "stream",
     "text": [
      "<class 'pandas.core.frame.DataFrame'>\n",
      "DatetimeIndex: 1257 entries, 2018-09-20 to 2023-09-19\n",
      "Data columns (total 1 columns):\n",
      " #   Column  Non-Null Count  Dtype  \n",
      "---  ------  --------------  -----  \n",
      " 0   Close   1257 non-null   float64\n",
      "dtypes: float64(1)\n",
      "memory usage: 19.6 KB\n"
     ]
    }
   ],
   "source": [
    "spy_data.info()"
   ]
  },
  {
   "cell_type": "code",
   "execution_count": 7,
   "id": "deff67bd",
   "metadata": {},
   "outputs": [
    {
     "data": {
      "text/plain": [
       "Close    0\n",
       "dtype: int64"
      ]
     },
     "execution_count": 7,
     "metadata": {},
     "output_type": "execute_result"
    }
   ],
   "source": [
    "# No missing values\n",
    "spy_data.isnull().sum()"
   ]
  },
  {
   "cell_type": "code",
   "execution_count": 8,
   "id": "a250c8b2",
   "metadata": {},
   "outputs": [
    {
     "data": {
      "text/html": [
       "<div>\n",
       "<style scoped>\n",
       "    .dataframe tbody tr th:only-of-type {\n",
       "        vertical-align: middle;\n",
       "    }\n",
       "\n",
       "    .dataframe tbody tr th {\n",
       "        vertical-align: top;\n",
       "    }\n",
       "\n",
       "    .dataframe thead th {\n",
       "        text-align: right;\n",
       "    }\n",
       "</style>\n",
       "<table border=\"1\" class=\"dataframe\">\n",
       "  <thead>\n",
       "    <tr style=\"text-align: right;\">\n",
       "      <th></th>\n",
       "      <th>Close</th>\n",
       "    </tr>\n",
       "  </thead>\n",
       "  <tbody>\n",
       "    <tr>\n",
       "      <th>count</th>\n",
       "      <td>1257.000</td>\n",
       "    </tr>\n",
       "    <tr>\n",
       "      <th>mean</th>\n",
       "      <td>365.177</td>\n",
       "    </tr>\n",
       "    <tr>\n",
       "      <th>std</th>\n",
       "      <td>64.889</td>\n",
       "    </tr>\n",
       "    <tr>\n",
       "      <th>min</th>\n",
       "      <td>222.950</td>\n",
       "    </tr>\n",
       "    <tr>\n",
       "      <th>25%</th>\n",
       "      <td>299.310</td>\n",
       "    </tr>\n",
       "    <tr>\n",
       "      <th>50%</th>\n",
       "      <td>379.200</td>\n",
       "    </tr>\n",
       "    <tr>\n",
       "      <th>75%</th>\n",
       "      <td>419.510</td>\n",
       "    </tr>\n",
       "    <tr>\n",
       "      <th>max</th>\n",
       "      <td>477.710</td>\n",
       "    </tr>\n",
       "  </tbody>\n",
       "</table>\n",
       "</div>"
      ],
      "text/plain": [
       "         Close\n",
       "count 1257.000\n",
       "mean   365.177\n",
       "std     64.889\n",
       "min    222.950\n",
       "25%    299.310\n",
       "50%    379.200\n",
       "75%    419.510\n",
       "max    477.710"
      ]
     },
     "execution_count": 8,
     "metadata": {},
     "output_type": "execute_result"
    }
   ],
   "source": [
    "spy_data.describe()"
   ]
  },
  {
   "cell_type": "code",
   "execution_count": 9,
   "id": "8cdf3e89",
   "metadata": {},
   "outputs": [
    {
     "data": {
      "text/plain": [
       "1257"
      ]
     },
     "execution_count": 9,
     "metadata": {},
     "output_type": "execute_result"
    }
   ],
   "source": [
    "spy_data_length = len(spy_data)\n",
    "spy_data_length"
   ]
  },
  {
   "cell_type": "code",
   "execution_count": 10,
   "id": "3a74e69e",
   "metadata": {},
   "outputs": [
    {
     "data": {
      "text/plain": [
       "<Axes: xlabel='Date'>"
      ]
     },
     "execution_count": 10,
     "metadata": {},
     "output_type": "execute_result"
    },
    {
     "data": {
      "image/png": "[encoded data removed]",
      "text/plain": [
       "<Figure size 1000x600 with 1 Axes>"
      ]
     },
     "metadata": {},
     "output_type": "display_data"
    }
   ],
   "source": [
    "spy_data.plot()"
   ]
  },
  {
   "cell_type": "code",
   "execution_count": 11,
   "id": "74471a6b",
   "metadata": {},
   "outputs": [
    {
     "data": {
      "text/plain": [
       "126.0"
      ]
     },
     "execution_count": 11,
     "metadata": {},
     "output_type": "execute_result"
    }
   ],
   "source": [
    "# spliting 90% data for train and 10% fro test\n",
    "test_percent = 0.1\n",
    "test_point = np.round(spy_data_length*test_percent)\n",
    "test_point"
   ]
  },
  {
   "cell_type": "code",
   "execution_count": 12,
   "id": "4375c9ee",
   "metadata": {},
   "outputs": [
    {
     "data": {
      "text/plain": [
       "1131"
      ]
     },
     "execution_count": 12,
     "metadata": {},
     "output_type": "execute_result"
    }
   ],
   "source": [
    "test_ind = int(spy_data_length - test_point)\n",
    "test_ind"
   ]
  },
  {
   "cell_type": "code",
   "execution_count": 13,
   "id": "4d037d08",
   "metadata": {},
   "outputs": [
    {
     "data": {
      "text/html": [
       "<div>\n",
       "<style scoped>\n",
       "    .dataframe tbody tr th:only-of-type {\n",
       "        vertical-align: middle;\n",
       "    }\n",
       "\n",
       "    .dataframe tbody tr th {\n",
       "        vertical-align: top;\n",
       "    }\n",
       "\n",
       "    .dataframe thead th {\n",
       "        text-align: right;\n",
       "    }\n",
       "</style>\n",
       "<table border=\"1\" class=\"dataframe\">\n",
       "  <thead>\n",
       "    <tr style=\"text-align: right;\">\n",
       "      <th></th>\n",
       "      <th>Close</th>\n",
       "    </tr>\n",
       "    <tr>\n",
       "      <th>Date</th>\n",
       "      <th></th>\n",
       "    </tr>\n",
       "  </thead>\n",
       "  <tbody>\n",
       "    <tr>\n",
       "      <th>2018-09-20</th>\n",
       "      <td>293.580</td>\n",
       "    </tr>\n",
       "    <tr>\n",
       "      <th>2018-09-21</th>\n",
       "      <td>291.990</td>\n",
       "    </tr>\n",
       "    <tr>\n",
       "      <th>2018-09-24</th>\n",
       "      <td>291.020</td>\n",
       "    </tr>\n",
       "    <tr>\n",
       "      <th>2018-09-25</th>\n",
       "      <td>290.750</td>\n",
       "    </tr>\n",
       "    <tr>\n",
       "      <th>2018-09-26</th>\n",
       "      <td>289.880</td>\n",
       "    </tr>\n",
       "    <tr>\n",
       "      <th>...</th>\n",
       "      <td>...</td>\n",
       "    </tr>\n",
       "    <tr>\n",
       "      <th>2023-03-14</th>\n",
       "      <td>391.730</td>\n",
       "    </tr>\n",
       "    <tr>\n",
       "      <th>2023-03-15</th>\n",
       "      <td>389.280</td>\n",
       "    </tr>\n",
       "    <tr>\n",
       "      <th>2023-03-16</th>\n",
       "      <td>396.110</td>\n",
       "    </tr>\n",
       "    <tr>\n",
       "      <th>2023-03-17</th>\n",
       "      <td>389.990</td>\n",
       "    </tr>\n",
       "    <tr>\n",
       "      <th>2023-03-20</th>\n",
       "      <td>393.740</td>\n",
       "    </tr>\n",
       "  </tbody>\n",
       "</table>\n",
       "<p>1131 rows × 1 columns</p>\n",
       "</div>"
      ],
      "text/plain": [
       "             Close\n",
       "Date              \n",
       "2018-09-20 293.580\n",
       "2018-09-21 291.990\n",
       "2018-09-24 291.020\n",
       "2018-09-25 290.750\n",
       "2018-09-26 289.880\n",
       "...            ...\n",
       "2023-03-14 391.730\n",
       "2023-03-15 389.280\n",
       "2023-03-16 396.110\n",
       "2023-03-17 389.990\n",
       "2023-03-20 393.740\n",
       "\n",
       "[1131 rows x 1 columns]"
      ]
     },
     "execution_count": 13,
     "metadata": {},
     "output_type": "execute_result"
    }
   ],
   "source": [
    "train = spy_data['Close'].to_frame().iloc[:test_ind]\n",
    "train"
   ]
  },
  {
   "cell_type": "code",
   "execution_count": 14,
   "id": "a34a178f",
   "metadata": {},
   "outputs": [
    {
     "data": {
      "text/html": [
       "<div>\n",
       "<style scoped>\n",
       "    .dataframe tbody tr th:only-of-type {\n",
       "        vertical-align: middle;\n",
       "    }\n",
       "\n",
       "    .dataframe tbody tr th {\n",
       "        vertical-align: top;\n",
       "    }\n",
       "\n",
       "    .dataframe thead th {\n",
       "        text-align: right;\n",
       "    }\n",
       "</style>\n",
       "<table border=\"1\" class=\"dataframe\">\n",
       "  <thead>\n",
       "    <tr style=\"text-align: right;\">\n",
       "      <th></th>\n",
       "      <th>Close</th>\n",
       "    </tr>\n",
       "    <tr>\n",
       "      <th>Date</th>\n",
       "      <th></th>\n",
       "    </tr>\n",
       "  </thead>\n",
       "  <tbody>\n",
       "    <tr>\n",
       "      <th>2023-03-21</th>\n",
       "      <td>398.910</td>\n",
       "    </tr>\n",
       "    <tr>\n",
       "      <th>2023-03-22</th>\n",
       "      <td>392.110</td>\n",
       "    </tr>\n",
       "    <tr>\n",
       "      <th>2023-03-23</th>\n",
       "      <td>393.170</td>\n",
       "    </tr>\n",
       "    <tr>\n",
       "      <th>2023-03-24</th>\n",
       "      <td>395.750</td>\n",
       "    </tr>\n",
       "    <tr>\n",
       "      <th>2023-03-27</th>\n",
       "      <td>396.490</td>\n",
       "    </tr>\n",
       "    <tr>\n",
       "      <th>...</th>\n",
       "      <td>...</td>\n",
       "    </tr>\n",
       "    <tr>\n",
       "      <th>2023-09-13</th>\n",
       "      <td>446.510</td>\n",
       "    </tr>\n",
       "    <tr>\n",
       "      <th>2023-09-14</th>\n",
       "      <td>450.360</td>\n",
       "    </tr>\n",
       "    <tr>\n",
       "      <th>2023-09-15</th>\n",
       "      <td>443.370</td>\n",
       "    </tr>\n",
       "    <tr>\n",
       "      <th>2023-09-18</th>\n",
       "      <td>443.630</td>\n",
       "    </tr>\n",
       "    <tr>\n",
       "      <th>2023-09-19</th>\n",
       "      <td>442.710</td>\n",
       "    </tr>\n",
       "  </tbody>\n",
       "</table>\n",
       "<p>126 rows × 1 columns</p>\n",
       "</div>"
      ],
      "text/plain": [
       "             Close\n",
       "Date              \n",
       "2023-03-21 398.910\n",
       "2023-03-22 392.110\n",
       "2023-03-23 393.170\n",
       "2023-03-24 395.750\n",
       "2023-03-27 396.490\n",
       "...            ...\n",
       "2023-09-13 446.510\n",
       "2023-09-14 450.360\n",
       "2023-09-15 443.370\n",
       "2023-09-18 443.630\n",
       "2023-09-19 442.710\n",
       "\n",
       "[126 rows x 1 columns]"
      ]
     },
     "execution_count": 14,
     "metadata": {},
     "output_type": "execute_result"
    }
   ],
   "source": [
    "test = spy_data['Close'].to_frame().iloc[test_ind:]\n",
    "test"
   ]
  },
  {
   "cell_type": "code",
   "execution_count": 15,
   "id": "98ce2668",
   "metadata": {},
   "outputs": [
    {
     "data": {
      "text/html": [
       "<style>#sk-container-id-1 {color: black;}#sk-container-id-1 pre{padding: 0;}#sk-container-id-1 div.sk-toggleable {background-color: white;}#sk-container-id-1 label.sk-toggleable__label {cursor: pointer;display: block;width: 100%;margin-bottom: 0;padding: 0.3em;box-sizing: border-box;text-align: center;}#sk-container-id-1 label.sk-toggleable__label-arrow:before {content: \"▸\";float: left;margin-right: 0.25em;color: #696969;}#sk-container-id-1 label.sk-toggleable__label-arrow:hover:before {color: black;}#sk-container-id-1 div.sk-estimator:hover label.sk-toggleable__label-arrow:before {color: black;}#sk-container-id-1 div.sk-toggleable__content {max-height: 0;max-width: 0;overflow: hidden;text-align: left;background-color: #f0f8ff;}#sk-container-id-1 div.sk-toggleable__content pre {margin: 0.2em;color: black;border-radius: 0.25em;background-color: #f0f8ff;}#sk-container-id-1 input.sk-toggleable__control:checked~div.sk-toggleable__content {max-height: 200px;max-width: 100%;overflow: auto;}#sk-container-id-1 input.sk-toggleable__control:checked~label.sk-toggleable__label-arrow:before {content: \"▾\";}#sk-container-id-1 div.sk-estimator input.sk-toggleable__control:checked~label.sk-toggleable__label {background-color: #d4ebff;}#sk-container-id-1 div.sk-label input.sk-toggleable__control:checked~label.sk-toggleable__label {background-color: #d4ebff;}#sk-container-id-1 input.sk-hidden--visually {border: 0;clip: rect(1px 1px 1px 1px);clip: rect(1px, 1px, 1px, 1px);height: 1px;margin: -1px;overflow: hidden;padding: 0;position: absolute;width: 1px;}#sk-container-id-1 div.sk-estimator {font-family: monospace;background-color: #f0f8ff;border: 1px dotted black;border-radius: 0.25em;box-sizing: border-box;margin-bottom: 0.5em;}#sk-container-id-1 div.sk-estimator:hover {background-color: #d4ebff;}#sk-container-id-1 div.sk-parallel-item::after {content: \"\";width: 100%;border-bottom: 1px solid gray;flex-grow: 1;}#sk-container-id-1 div.sk-label:hover label.sk-toggleable__label {background-color: #d4ebff;}#sk-container-id-1 div.sk-serial::before {content: \"\";position: absolute;border-left: 1px solid gray;box-sizing: border-box;top: 0;bottom: 0;left: 50%;z-index: 0;}#sk-container-id-1 div.sk-serial {display: flex;flex-direction: column;align-items: center;background-color: white;padding-right: 0.2em;padding-left: 0.2em;position: relative;}#sk-container-id-1 div.sk-item {position: relative;z-index: 1;}#sk-container-id-1 div.sk-parallel {display: flex;align-items: stretch;justify-content: center;background-color: white;position: relative;}#sk-container-id-1 div.sk-item::before, #sk-container-id-1 div.sk-parallel-item::before {content: \"\";position: absolute;border-left: 1px solid gray;box-sizing: border-box;top: 0;bottom: 0;left: 50%;z-index: -1;}#sk-container-id-1 div.sk-parallel-item {display: flex;flex-direction: column;z-index: 1;position: relative;background-color: white;}#sk-container-id-1 div.sk-parallel-item:first-child::after {align-self: flex-end;width: 50%;}#sk-container-id-1 div.sk-parallel-item:last-child::after {align-self: flex-start;width: 50%;}#sk-container-id-1 div.sk-parallel-item:only-child::after {width: 0;}#sk-container-id-1 div.sk-dashed-wrapped {border: 1px dashed gray;margin: 0 0.4em 0.5em 0.4em;box-sizing: border-box;padding-bottom: 0.4em;background-color: white;}#sk-container-id-1 div.sk-label label {font-family: monospace;font-weight: bold;display: inline-block;line-height: 1.2em;}#sk-container-id-1 div.sk-label-container {text-align: center;}#sk-container-id-1 div.sk-container {/* jupyter's `normalize.less` sets `[hidden] { display: none; }` but bootstrap.min.css set `[hidden] { display: none !important; }` so we also need the `!important` here to be able to override the default hidden behavior on the sphinx rendered scikit-learn.org. See: https://github.com/scikit-learn/scikit-learn/issues/21755 */display: inline-block !important;position: relative;}#sk-container-id-1 div.sk-text-repr-fallback {display: none;}</style><div id=\"sk-container-id-1\" class=\"sk-top-container\"><div class=\"sk-text-repr-fallback\"><pre>MinMaxScaler()</pre><b>In a Jupyter environment, please rerun this cell to show the HTML representation or trust the notebook. <br />On GitHub, the HTML representation is unable to render, please try loading this page with nbviewer.org.</b></div><div class=\"sk-container\" hidden><div class=\"sk-item\"><div class=\"sk-estimator sk-toggleable\"><input class=\"sk-toggleable__control sk-hidden--visually\" id=\"sk-estimator-id-1\" type=\"checkbox\" checked><label for=\"sk-estimator-id-1\" class=\"sk-toggleable__label sk-toggleable__label-arrow\">MinMaxScaler</label><div class=\"sk-toggleable__content\"><pre>MinMaxScaler()</pre></div></div></div></div></div>"
      ],
      "text/plain": [
       "MinMaxScaler()"
      ]
     },
     "execution_count": 15,
     "metadata": {},
     "output_type": "execute_result"
    }
   ],
   "source": [
    "# Normalize the data\n",
    "scaler = MinMaxScaler()\n",
    "scaler.fit(train)"
   ]
  },
  {
   "cell_type": "code",
   "execution_count": 16,
   "id": "9e341bd4",
   "metadata": {},
   "outputs": [
    {
     "data": {
      "text/plain": [
       "array([[0.27724129],\n",
       "       [0.27100014],\n",
       "       [0.26719263],\n",
       "       ...,\n",
       "       [0.67969851],\n",
       "       [0.65567592],\n",
       "       [0.67039565]])"
      ]
     },
     "execution_count": 16,
     "metadata": {},
     "output_type": "execute_result"
    }
   ],
   "source": [
    "scaled_train = scaler.transform(train)\n",
    "scaled_train"
   ]
  },
  {
   "cell_type": "code",
   "execution_count": 17,
   "id": "2ab175c8",
   "metadata": {},
   "outputs": [
    {
     "data": {
      "text/plain": [
       "array([[0.69068932],\n",
       "       [0.66399746],\n",
       "       [0.66815835],\n",
       "       [0.67828547],\n",
       "       [0.68119013],\n",
       "       [0.67769671],\n",
       "       [0.70026697],\n",
       "       [0.70949136],\n",
       "       [0.73182612],\n",
       "       [0.73794952],\n",
       "       [0.72899992],\n",
       "       [0.72479986],\n",
       "       [0.73104102],\n",
       "       [0.73268956],\n",
       "       [0.7331214 ],\n",
       "       [0.72656616],\n",
       "       [0.74784114],\n",
       "       [0.74387658],\n",
       "       [0.74968602],\n",
       "       [0.75074579],\n",
       "       [0.75047112],\n",
       "       [0.74159999],\n",
       "       [0.7428561 ],\n",
       "       [0.74454393],\n",
       "       [0.71883339],\n",
       "       [0.71208193],\n",
       "       [0.74368037],\n",
       "       [0.75749725],\n",
       "       [0.75584871],\n",
       "       [0.73751768],\n",
       "       [0.72644841],\n",
       "       [0.71510446],\n",
       "       [0.74454393],\n",
       "       [0.74497565],\n",
       "       [0.73787094],\n",
       "       [0.7454075 ],\n",
       "       [0.7425813 ],\n",
       "       [0.74046162],\n",
       "       [0.74603555],\n",
       "       [0.73520179],\n",
       "       [0.75474964],\n",
       "       [0.77045069],\n",
       "       [0.76805622],\n",
       "       [0.76872357],\n",
       "       [0.75027478],\n",
       "       [0.73849899],\n",
       "       [0.75247292],\n",
       "       [0.77355156],\n",
       "       [0.77417962],\n",
       "       [0.76503381],\n",
       "       [0.78061711],\n",
       "       [0.80456124],\n",
       "       [0.80134249],\n",
       "       [0.80499296],\n",
       "       [0.79918353],\n",
       "       [0.80931077],\n",
       "       [0.81233318],\n",
       "       [0.82764169],\n",
       "       [0.838868  ],\n",
       "       [0.8409091 ],\n",
       "       [0.86218407],\n",
       "       [0.84985869],\n",
       "       [0.8409091 ],\n",
       "       [0.83211654],\n",
       "       [0.83827924],\n",
       "       [0.82532579],\n",
       "       [0.81837812],\n",
       "       [0.83694466],\n",
       "       [0.83780822],\n",
       "       [0.84455956],\n",
       "       [0.86485322],\n",
       "       [0.86685515],\n",
       "       [0.86426446],\n",
       "       [0.85064379],\n",
       "       [0.84628669],\n",
       "       [0.85064379],\n",
       "       [0.86163448],\n",
       "       [0.8756084 ],\n",
       "       [0.88950387],\n",
       "       [0.8884048 ],\n",
       "       [0.8945282 ],\n",
       "       [0.90767786],\n",
       "       [0.91164241],\n",
       "       [0.89978804],\n",
       "       [0.89978804],\n",
       "       [0.90771715],\n",
       "       [0.91258443],\n",
       "       [0.91285923],\n",
       "       [0.90100486],\n",
       "       [0.91839387],\n",
       "       [0.92180883],\n",
       "       [0.91666674],\n",
       "       [0.8917413 ],\n",
       "       [0.88667767],\n",
       "       [0.8787094 ],\n",
       "       [0.8940179 ],\n",
       "       [0.88632442],\n",
       "       [0.87454863],\n",
       "       [0.87517668],\n",
       "       [0.87415608],\n",
       "       [0.88381219],\n",
       "       [0.86332243],\n",
       "       [0.85056533],\n",
       "       [0.83741567],\n",
       "       [0.83823994],\n",
       "       [0.84938768],\n",
       "       [0.8447166 ],\n",
       "       [0.86387191],\n",
       "       [0.83977086],\n",
       "       [0.85186061],\n",
       "       [0.86281213],\n",
       "       [0.88793379],\n",
       "       [0.89519555],\n",
       "       [0.89260486],\n",
       "       [0.89590207],\n",
       "       [0.88824776],\n",
       "       [0.8763935 ],\n",
       "       [0.87101591],\n",
       "       [0.87364577],\n",
       "       [0.88514688],\n",
       "       [0.87549065],\n",
       "       [0.87753187],\n",
       "       [0.89264403],\n",
       "       [0.86520648],\n",
       "       [0.86622709],\n",
       "       [0.86261579]])"
      ]
     },
     "execution_count": 17,
     "metadata": {},
     "output_type": "execute_result"
    }
   ],
   "source": [
    "scaled_test = scaler.transform(test)\n",
    "scaled_test"
   ]
  },
  {
   "cell_type": "markdown",
   "id": "61a8659f",
   "metadata": {},
   "source": [
    "# Data Sequencing"
   ]
  },
  {
   "cell_type": "code",
   "execution_count": 18,
   "id": "35d9b543",
   "metadata": {},
   "outputs": [],
   "source": [
    "# Set the desired length and batch size for the TimeseriesGenerator\n",
    "length = 5\n",
    "batch_size = 1\n",
    "\n",
    "# Create the TimeseriesGenerator for the training data\n",
    "generator = TimeseriesGenerator(scaled_train, scaled_train, length=length, batch_size=batch_size)\n",
    "\n",
    "# Create the TimeseriesGenerator for the validation data\n",
    "validation_generator = TimeseriesGenerator(scaled_test, scaled_test, length=length, batch_size=batch_size)"
   ]
  },
  {
   "cell_type": "code",
   "execution_count": 19,
   "id": "d96fd1da",
   "metadata": {},
   "outputs": [
    {
     "data": {
      "text/plain": [
       "1126"
      ]
     },
     "execution_count": 19,
     "metadata": {},
     "output_type": "execute_result"
    }
   ],
   "source": [
    "len(generator)"
   ]
  },
  {
   "cell_type": "code",
   "execution_count": 20,
   "id": "9b2182dc",
   "metadata": {},
   "outputs": [
    {
     "data": {
      "text/plain": [
       "121"
      ]
     },
     "execution_count": 20,
     "metadata": {},
     "output_type": "execute_result"
    }
   ],
   "source": [
    "len(validation_generator)"
   ]
  },
  {
   "cell_type": "code",
   "execution_count": 21,
   "id": "d39c5166",
   "metadata": {},
   "outputs": [
    {
     "data": {
      "text/plain": [
       "5"
      ]
     },
     "execution_count": 21,
     "metadata": {},
     "output_type": "execute_result"
    }
   ],
   "source": [
    "generator.length"
   ]
  },
  {
   "cell_type": "code",
   "execution_count": 22,
   "id": "81793129",
   "metadata": {},
   "outputs": [
    {
     "data": {
      "text/plain": [
       "5"
      ]
     },
     "execution_count": 22,
     "metadata": {},
     "output_type": "execute_result"
    }
   ],
   "source": [
    "validation_generator.length"
   ]
  },
  {
   "cell_type": "code",
   "execution_count": 23,
   "id": "c35c9d2e",
   "metadata": {},
   "outputs": [
    {
     "data": {
      "text/plain": [
       "1"
      ]
     },
     "execution_count": 23,
     "metadata": {},
     "output_type": "execute_result"
    }
   ],
   "source": [
    "y_length = len(generator[0][1])\n",
    "y_length"
   ]
  },
  {
   "cell_type": "code",
   "execution_count": 24,
   "id": "ec4ae690",
   "metadata": {},
   "outputs": [
    {
     "data": {
      "text/plain": [
       "1"
      ]
     },
     "execution_count": 24,
     "metadata": {},
     "output_type": "execute_result"
    }
   ],
   "source": [
    "y_gen_length = len(validation_generator[0][1])\n",
    "y_gen_length"
   ]
  },
  {
   "cell_type": "code",
   "execution_count": 25,
   "id": "f42a44b6",
   "metadata": {},
   "outputs": [
    {
     "name": "stdout",
     "output_type": "stream",
     "text": [
      "Given the Array: \n",
      "[0.27724129 0.27100014 0.26719263 0.26613285 0.26271789]\n",
      "Predict this y: \n",
      " [[0.26589734]]\n"
     ]
    }
   ],
   "source": [
    "# What does the first batch look like?\n",
    "X,y = generator[0]\n",
    "print(f'Given the Array: \\n{X.flatten()}')\n",
    "print(f'Predict this y: \\n {y}')"
   ]
  },
  {
   "cell_type": "code",
   "execution_count": 26,
   "id": "e4cac50e",
   "metadata": {},
   "outputs": [
    {
     "name": "stdout",
     "output_type": "stream",
     "text": [
      "Given the Array: \n",
      "[0.69068932 0.66399746 0.66815835 0.67828547 0.68119013]\n",
      "Predict this y: \n",
      " [[0.67769671]]\n"
     ]
    }
   ],
   "source": [
    "# What does the first batch look like?\n",
    "X_gen, y_gen = validation_generator[0]\n",
    "print(f'Given the Array: \\n{X_gen.flatten()}')\n",
    "print(f'Predict this y: \\n {y_gen}')"
   ]
  },
  {
   "cell_type": "markdown",
   "id": "d2e3c1bc",
   "metadata": {},
   "source": [
    "# Model Architecture"
   ]
  },
  {
   "cell_type": "code",
   "execution_count": 27,
   "id": "ef9ef157",
   "metadata": {},
   "outputs": [],
   "source": [
    "# In this project, we will attempt to train two types of models: GRU and LSTM. \n",
    "# We will examine the performance of both models and provide the client with the optimal model."
   ]
  },
  {
   "cell_type": "code",
   "execution_count": 28,
   "id": "99b32c1b",
   "metadata": {},
   "outputs": [],
   "source": [
    "def build_model(time_steps, n_features, num_layers, rnn_type):\n",
    "    \"\"\"\n",
    "    Build a recurrent neural network (RNN) model with the specified parameters.\n",
    "    \n",
    "    Parameters:\n",
    "    - time_steps: int, the number of time steps in each input sequence\n",
    "    - n_features: int, the number of features in each time step\n",
    "    - num_layers: int, the number of RNN layers in the model\n",
    "    - rnn_type: str, the type of RNN layer to use ('lstm' or 'gru')\n",
    "    \n",
    "    Returns:\n",
    "    - model: a compiled RNN model\n",
    "    \n",
    "    Raises:\n",
    "    - ValueError: if an invalid RNN type is specified\n",
    "    \n",
    "    \"\"\"\n",
    "    # Initialize a sequential model\n",
    "    model = Sequential()\n",
    "    \n",
    "    # Choose the type of RNN layer\n",
    "    if rnn_type == 'lstm':\n",
    "        rnn_layer = LSTM\n",
    "    elif rnn_type == 'gru':\n",
    "        rnn_layer = GRU\n",
    "    else:\n",
    "        raise ValueError(\"Invalid RNN type. Choose either 'lstm' or 'gru'.\")\n",
    "    \n",
    "    # Add the first RNN layer\n",
    "    model.add(globals()[rnn_layer.__name__](units=50, \n",
    "                                            return_sequences=True,\n",
    "                                            activation='relu',\n",
    "                                            input_shape=(time_steps, n_features)))\n",
    "    \n",
    "    # Add intermediate RNN layers\n",
    "    for _ in range(num_layers-2):\n",
    "        model.add(globals()[rnn_layer.__name__](units=50, activation='relu', return_sequences=True))\n",
    "        \n",
    "    # Add the final RNN layer\n",
    "    model.add(globals()[rnn_layer.__name__](units=50, activation='relu',  return_sequences=False))\n",
    "    \n",
    "    # Add a dense output layer\n",
    "    model.add(Dense(units=1))\n",
    "    \n",
    "    return model\n"
   ]
  },
  {
   "cell_type": "code",
   "execution_count": 29,
   "id": "aef5e8fc",
   "metadata": {},
   "outputs": [],
   "source": [
    "# Refers only to the Close column\n",
    "n_features = 1"
   ]
  },
  {
   "cell_type": "code",
   "execution_count": 30,
   "id": "79812b4b",
   "metadata": {},
   "outputs": [],
   "source": [
    "# Build a GRU model with the specified parameters\n",
    "gru_model = build_model(time_steps=length, n_features=n_features, num_layers=3, rnn_type='gru')"
   ]
  },
  {
   "cell_type": "code",
   "execution_count": 31,
   "id": "96de5917",
   "metadata": {},
   "outputs": [],
   "source": [
    "# Build an LSTM model with the specified parameters\n",
    "lstm_model = build_model(time_steps=length, n_features=n_features, num_layers=3, rnn_type='lstm')"
   ]
  },
  {
   "cell_type": "code",
   "execution_count": 32,
   "id": "d521b52c",
   "metadata": {},
   "outputs": [],
   "source": [
    "def summarize_and_compile(model, optimizer, loss):\n",
    "    \"\"\"\n",
    "    Summarize the model architecture and compile it with the specified optimizer and loss function.\n",
    "    \n",
    "    Parameters:\n",
    "    - model: a Keras model object\n",
    "    - optimizer: a Keras optimizer object or string specifying the optimizer\n",
    "    - loss: a Keras loss function or string specifying the loss function\n",
    "    \n",
    "    \"\"\"\n",
    "    # Print a summary of the model architecture\n",
    "    model.summary()\n",
    "    \n",
    "    # Compile the model with the specified optimizer and loss function\n",
    "    model.compile(optimizer=optimizer, loss=loss)"
   ]
  },
  {
   "cell_type": "code",
   "execution_count": 33,
   "id": "0acb1eae",
   "metadata": {},
   "outputs": [],
   "source": [
    "# Set the optimizer to 'adam'\n",
    "optimizer = 'adam'\n",
    "\n",
    "# Set the loss function to 'mean_squared_error'\n",
    "loss = 'mean_squared_error'"
   ]
  },
  {
   "cell_type": "code",
   "execution_count": 34,
   "id": "ec0b12b9",
   "metadata": {},
   "outputs": [
    {
     "name": "stdout",
     "output_type": "stream",
     "text": [
      "Model: \"sequential\"\n",
      "_________________________________________________________________\n",
      " Layer (type)                Output Shape              Param #   \n",
      "=================================================================\n",
      " gru (GRU)                   (None, 5, 50)             7950      \n",
      "                                                                 \n",
      " gru_1 (GRU)                 (None, 5, 50)             15300     \n",
      "                                                                 \n",
      " gru_2 (GRU)                 (None, 50)                15300     \n",
      "                                                                 \n",
      " dense (Dense)               (None, 1)                 51        \n",
      "                                                                 \n",
      "=================================================================\n",
      "Total params: 38601 (150.79 KB)\n",
      "Trainable params: 38601 (150.79 KB)\n",
      "Non-trainable params: 0 (0.00 Byte)\n",
      "_________________________________________________________________\n"
     ]
    }
   ],
   "source": [
    "summarize_and_compile(gru_model, optimizer, loss)"
   ]
  },
  {
   "cell_type": "code",
   "execution_count": 35,
   "id": "be771482",
   "metadata": {},
   "outputs": [
    {
     "name": "stdout",
     "output_type": "stream",
     "text": [
      "Model: \"sequential_1\"\n",
      "_________________________________________________________________\n",
      " Layer (type)                Output Shape              Param #   \n",
      "=================================================================\n",
      " lstm (LSTM)                 (None, 5, 50)             10400     \n",
      "                                                                 \n",
      " lstm_1 (LSTM)               (None, 5, 50)             20200     \n",
      "                                                                 \n",
      " lstm_2 (LSTM)               (None, 50)                20200     \n",
      "                                                                 \n",
      " dense_1 (Dense)             (None, 1)                 51        \n",
      "                                                                 \n",
      "=================================================================\n",
      "Total params: 50851 (198.64 KB)\n",
      "Trainable params: 50851 (198.64 KB)\n",
      "Non-trainable params: 0 (0.00 Byte)\n",
      "_________________________________________________________________\n"
     ]
    }
   ],
   "source": [
    "summarize_and_compile(lstm_model, optimizer, loss)"
   ]
  },
  {
   "cell_type": "markdown",
   "id": "46eea7d4",
   "metadata": {},
   "source": [
    "# 5. Model Training:"
   ]
  },
  {
   "cell_type": "code",
   "execution_count": 36,
   "id": "595aa70c",
   "metadata": {},
   "outputs": [],
   "source": [
    "def train_rnn_models(generator, validation_generator, model, epochs=20, patience=5):\n",
    "    \"\"\"\n",
    "    Trains LSTM and GRU models, compares their performance, and measures the training time.\n",
    "\n",
    "    Parameters:\n",
    "    - generator: a data generator for training data\n",
    "    - validation_generator: a data generator for validation data\n",
    "    - model: the RNN model to be trained\n",
    "    - epochs: the number of epochs to train the model (default: 20)\n",
    "    - patience: the number of epochs with no improvement after which training will be stopped (default: 5)\n",
    "    \"\"\"\n",
    "    # Create instances of EarlyStopping callbacks for model\n",
    "    model_early_stopping = EarlyStopping(monitor='val_loss', patience=patience)\n",
    "\n",
    "    # Train model\n",
    "    start_time = time.time()\n",
    "    model_history = model.fit_generator(generator=generator,\n",
    "                                        validation_data=validation_generator,\n",
    "                                        epochs=epochs,\n",
    "                                        callbacks=[model_early_stopping])\n",
    "    end_time = time.time()\n",
    "\n",
    "    print(f'The time of execution of training model is: {end_time - start_time} seconds.')\n",
    "\n",
    "    # Plot the training and validation losses\n",
    "    losses = pd.DataFrame(model.history.history)\n",
    "    losses.plot()"
   ]
  },
  {
   "cell_type": "code",
   "execution_count": 37,
   "id": "77497059",
   "metadata": {},
   "outputs": [
    {
     "name": "stdout",
     "output_type": "stream",
     "text": [
      "Epoch 1/20\n",
      "1126/1126 [==============================] - 10s 6ms/step - loss: 0.0064 - val_loss: 7.5197e-04\n",
      "Epoch 2/20\n",
      "1126/1126 [==============================] - 6s 5ms/step - loss: 0.0012 - val_loss: 4.9694e-04\n",
      "Epoch 3/20\n",
      "1126/1126 [==============================] - 6s 5ms/step - loss: 0.0012 - val_loss: 5.5612e-04\n",
      "Epoch 4/20\n",
      "1126/1126 [==============================] - 6s 6ms/step - loss: 0.0012 - val_loss: 8.2237e-04\n",
      "Epoch 5/20\n",
      "1126/1126 [==============================] - 6s 6ms/step - loss: 0.0011 - val_loss: 2.9175e-04\n",
      "Epoch 6/20\n",
      "1126/1126 [==============================] - 6s 6ms/step - loss: 9.7604e-04 - val_loss: 5.1031e-04\n",
      "Epoch 7/20\n",
      "1126/1126 [==============================] - 6s 6ms/step - loss: 8.8732e-04 - val_loss: 3.1019e-04\n",
      "Epoch 8/20\n",
      "1126/1126 [==============================] - 6s 5ms/step - loss: 7.7037e-04 - val_loss: 0.0018\n",
      "Epoch 9/20\n",
      "1126/1126 [==============================] - 6s 5ms/step - loss: 7.0385e-04 - val_loss: 1.5201e-04\n",
      "Epoch 10/20\n",
      "1126/1126 [==============================] - 6s 5ms/step - loss: 5.8924e-04 - val_loss: 3.5806e-04\n",
      "Epoch 11/20\n",
      "1126/1126 [==============================] - 7s 6ms/step - loss: 5.9505e-04 - val_loss: 1.4144e-04\n",
      "Epoch 12/20\n",
      "1126/1126 [==============================] - 7s 6ms/step - loss: 6.0497e-04 - val_loss: 1.5745e-04\n",
      "Epoch 13/20\n",
      "1126/1126 [==============================] - 7s 6ms/step - loss: 5.7904e-04 - val_loss: 1.6557e-04\n",
      "Epoch 14/20\n",
      "1126/1126 [==============================] - 6s 5ms/step - loss: 5.2976e-04 - val_loss: 5.3910e-04\n",
      "Epoch 15/20\n",
      "1126/1126 [==============================] - 6s 6ms/step - loss: 5.0998e-04 - val_loss: 1.4141e-04\n",
      "Epoch 16/20\n",
      "1126/1126 [==============================] - 7s 6ms/step - loss: 5.4110e-04 - val_loss: 1.4474e-04\n",
      "Epoch 17/20\n",
      "1126/1126 [==============================] - 6s 6ms/step - loss: 5.1967e-04 - val_loss: 5.7114e-04\n",
      "Epoch 18/20\n",
      "1126/1126 [==============================] - 7s 6ms/step - loss: 5.6659e-04 - val_loss: 0.0012\n",
      "Epoch 19/20\n",
      "1126/1126 [==============================] - 8s 7ms/step - loss: 5.0213e-04 - val_loss: 2.6911e-04\n",
      "Epoch 20/20\n",
      "1126/1126 [==============================] - 8s 7ms/step - loss: 5.0807e-04 - val_loss: 2.0812e-04\n",
      "The time of execution of training model is: 134.5310001373291 seconds.\n"
     ]
    },
    {
     "data": {
      "image/png": "[encoded data removed]",
      "text/plain": [
       "<Figure size 1000x600 with 1 Axes>"
      ]
     },
     "metadata": {},
     "output_type": "display_data"
    }
   ],
   "source": [
    "train_rnn_models(generator, validation_generator, gru_model)"
   ]
  },
  {
   "cell_type": "code",
   "execution_count": 38,
   "id": "17703581",
   "metadata": {},
   "outputs": [
    {
     "name": "stdout",
     "output_type": "stream",
     "text": [
      "Epoch 1/20\n",
      "1126/1126 [==============================] - 12s 7ms/step - loss: 0.0102 - val_loss: 0.0027\n",
      "Epoch 2/20\n",
      "1126/1126 [==============================] - 6s 6ms/step - loss: 0.0017 - val_loss: 0.0021\n",
      "Epoch 3/20\n",
      "1126/1126 [==============================] - 7s 6ms/step - loss: 0.0015 - val_loss: 9.1514e-04\n",
      "Epoch 4/20\n",
      "1126/1126 [==============================] - 7s 6ms/step - loss: 0.0015 - val_loss: 0.0018\n",
      "Epoch 5/20\n",
      "1126/1126 [==============================] - 7s 6ms/step - loss: 0.0016 - val_loss: 4.9070e-04\n",
      "Epoch 6/20\n",
      "1126/1126 [==============================] - 7s 6ms/step - loss: 0.0013 - val_loss: 5.3027e-04\n",
      "Epoch 7/20\n",
      "1126/1126 [==============================] - 7s 6ms/step - loss: 0.0011 - val_loss: 0.0032\n",
      "Epoch 8/20\n",
      "1126/1126 [==============================] - 6s 6ms/step - loss: 9.2283e-04 - val_loss: 2.5837e-04\n",
      "Epoch 9/20\n",
      "1126/1126 [==============================] - 7s 6ms/step - loss: 0.0010 - val_loss: 5.2927e-04\n",
      "Epoch 10/20\n",
      "1126/1126 [==============================] - 6s 6ms/step - loss: 8.3281e-04 - val_loss: 2.0929e-04\n",
      "Epoch 11/20\n",
      "1126/1126 [==============================] - 6s 6ms/step - loss: 7.3919e-04 - val_loss: 3.5081e-04\n",
      "Epoch 12/20\n",
      "1126/1126 [==============================] - 6s 5ms/step - loss: 7.3019e-04 - val_loss: 6.5421e-04\n",
      "Epoch 13/20\n",
      "1126/1126 [==============================] - 7s 6ms/step - loss: 6.9615e-04 - val_loss: 1.4194e-04\n",
      "Epoch 14/20\n",
      "1126/1126 [==============================] - 6s 5ms/step - loss: 6.4690e-04 - val_loss: 2.9763e-04\n",
      "Epoch 15/20\n",
      "1126/1126 [==============================] - 6s 5ms/step - loss: 6.0238e-04 - val_loss: 1.3814e-04\n",
      "Epoch 16/20\n",
      "1126/1126 [==============================] - 6s 6ms/step - loss: 7.5411e-04 - val_loss: 1.4296e-04\n",
      "Epoch 17/20\n",
      "1126/1126 [==============================] - 7s 6ms/step - loss: 6.1452e-04 - val_loss: 8.9421e-04\n",
      "Epoch 18/20\n",
      "1126/1126 [==============================] - 6s 5ms/step - loss: 6.4878e-04 - val_loss: 2.4013e-04\n",
      "Epoch 19/20\n",
      "1126/1126 [==============================] - 6s 5ms/step - loss: 5.6685e-04 - val_loss: 9.5543e-04\n",
      "Epoch 20/20\n",
      "1126/1126 [==============================] - 7s 6ms/step - loss: 5.7187e-04 - val_loss: 1.5898e-04\n",
      "The time of execution of training model is: 136.46352195739746 seconds.\n"
     ]
    },
    {
     "data": {
      "image/png": "[encoded data removed]",
      "text/plain": [
       "<Figure size 1000x600 with 1 Axes>"
      ]
     },
     "metadata": {},
     "output_type": "display_data"
    }
   ],
   "source": [
    "train_rnn_models(generator, validation_generator, lstm_model)"
   ]
  },
  {
   "cell_type": "markdown",
   "id": "daf43028",
   "metadata": {},
   "source": [
    "# Model Evaluation"
   ]
  },
  {
   "cell_type": "code",
   "execution_count": 39,
   "id": "842c25ae",
   "metadata": {},
   "outputs": [],
   "source": [
    "def create_test_predictions(test, model, model_name):\n",
    "    \"\"\"\n",
    "    Generates predictions for the test dataset using the specified model.\n",
    "\n",
    "    Parameters:\n",
    "    - test: the test dataset used for prediction\n",
    "    - model: the trained model used for making predictions\n",
    "    - model_name: a string indicating the name of the model\n",
    "\n",
    "    Returns:\n",
    "    - test: the test dataset with the predictions added as a new column\n",
    "    \"\"\"\n",
    "    # Generate predictions with the trained model\n",
    "    true_predictions = model.predict(validation_generator)\n",
    "\n",
    "    # Reshape the predictions and scale them back to their original values\n",
    "    true_predictions = scaler.inverse_transform(true_predictions)\n",
    "\n",
    "    # Add the predictions as a new column in the test dataset\n",
    "    model_predictions = f'{model_name}_predictions'\n",
    "    test[model_predictions] = None\n",
    "    test.iloc[length:, test.columns.get_loc(model_predictions)] = true_predictions\n",
    "\n",
    "    return test"
   ]
  },
  {
   "cell_type": "code",
   "execution_count": 40,
   "id": "7d77bc22",
   "metadata": {
    "scrolled": true
   },
   "outputs": [
    {
     "name": "stdout",
     "output_type": "stream",
     "text": [
      "121/121 [==============================] - 1s 1ms/step\n"
     ]
    }
   ],
   "source": [
    "test = create_test_predictions(test, gru_model, 'gru_model')"
   ]
  },
  {
   "cell_type": "code",
   "execution_count": 41,
   "id": "064522ca",
   "metadata": {},
   "outputs": [
    {
     "name": "stdout",
     "output_type": "stream",
     "text": [
      "121/121 [==============================] - 0s 1ms/step\n"
     ]
    }
   ],
   "source": [
    "test = create_test_predictions(test, lstm_model, 'lstm_model')"
   ]
  },
  {
   "cell_type": "code",
   "execution_count": 42,
   "id": "a2f0d672",
   "metadata": {},
   "outputs": [
    {
     "data": {
      "text/html": [
       "<div>\n",
       "<style scoped>\n",
       "    .dataframe tbody tr th:only-of-type {\n",
       "        vertical-align: middle;\n",
       "    }\n",
       "\n",
       "    .dataframe tbody tr th {\n",
       "        vertical-align: top;\n",
       "    }\n",
       "\n",
       "    .dataframe thead th {\n",
       "        text-align: right;\n",
       "    }\n",
       "</style>\n",
       "<table border=\"1\" class=\"dataframe\">\n",
       "  <thead>\n",
       "    <tr style=\"text-align: right;\">\n",
       "      <th></th>\n",
       "      <th>Close</th>\n",
       "      <th>gru_model_predictions</th>\n",
       "      <th>lstm_model_predictions</th>\n",
       "    </tr>\n",
       "    <tr>\n",
       "      <th>Date</th>\n",
       "      <th></th>\n",
       "      <th></th>\n",
       "      <th></th>\n",
       "    </tr>\n",
       "  </thead>\n",
       "  <tbody>\n",
       "    <tr>\n",
       "      <th>2023-03-28</th>\n",
       "      <td>395.600</td>\n",
       "      <td>399.564</td>\n",
       "      <td>398.640</td>\n",
       "    </tr>\n",
       "    <tr>\n",
       "      <th>2023-03-29</th>\n",
       "      <td>401.350</td>\n",
       "      <td>398.774</td>\n",
       "      <td>397.658</td>\n",
       "    </tr>\n",
       "    <tr>\n",
       "      <th>2023-03-30</th>\n",
       "      <td>403.700</td>\n",
       "      <td>404.227</td>\n",
       "      <td>402.928</td>\n",
       "    </tr>\n",
       "    <tr>\n",
       "      <th>2023-03-31</th>\n",
       "      <td>409.390</td>\n",
       "      <td>406.442</td>\n",
       "      <td>404.941</td>\n",
       "    </tr>\n",
       "    <tr>\n",
       "      <th>2023-04-03</th>\n",
       "      <td>410.950</td>\n",
       "      <td>411.974</td>\n",
       "      <td>409.991</td>\n",
       "    </tr>\n",
       "    <tr>\n",
       "      <th>...</th>\n",
       "      <td>...</td>\n",
       "      <td>...</td>\n",
       "      <td>...</td>\n",
       "    </tr>\n",
       "    <tr>\n",
       "      <th>2023-09-13</th>\n",
       "      <td>446.510</td>\n",
       "      <td>448.049</td>\n",
       "      <td>447.291</td>\n",
       "    </tr>\n",
       "    <tr>\n",
       "      <th>2023-09-14</th>\n",
       "      <td>450.360</td>\n",
       "      <td>448.837</td>\n",
       "      <td>447.916</td>\n",
       "    </tr>\n",
       "    <tr>\n",
       "      <th>2023-09-15</th>\n",
       "      <td>443.370</td>\n",
       "      <td>452.566</td>\n",
       "      <td>451.884</td>\n",
       "    </tr>\n",
       "    <tr>\n",
       "      <th>2023-09-18</th>\n",
       "      <td>443.630</td>\n",
       "      <td>445.374</td>\n",
       "      <td>444.596</td>\n",
       "    </tr>\n",
       "    <tr>\n",
       "      <th>2023-09-19</th>\n",
       "      <td>442.710</td>\n",
       "      <td>446.236</td>\n",
       "      <td>445.249</td>\n",
       "    </tr>\n",
       "  </tbody>\n",
       "</table>\n",
       "<p>121 rows × 3 columns</p>\n",
       "</div>"
      ],
      "text/plain": [
       "             Close gru_model_predictions lstm_model_predictions\n",
       "Date                                                           \n",
       "2023-03-28 395.600               399.564                398.640\n",
       "2023-03-29 401.350               398.774                397.658\n",
       "2023-03-30 403.700               404.227                402.928\n",
       "2023-03-31 409.390               406.442                404.941\n",
       "2023-04-03 410.950               411.974                409.991\n",
       "...            ...                   ...                    ...\n",
       "2023-09-13 446.510               448.049                447.291\n",
       "2023-09-14 450.360               448.837                447.916\n",
       "2023-09-15 443.370               452.566                451.884\n",
       "2023-09-18 443.630               445.374                444.596\n",
       "2023-09-19 442.710               446.236                445.249\n",
       "\n",
       "[121 rows x 3 columns]"
      ]
     },
     "execution_count": 42,
     "metadata": {},
     "output_type": "execute_result"
    }
   ],
   "source": [
    "# Shows how the two models perform on the test set\n",
    "test.iloc[length:]"
   ]
  },
  {
   "cell_type": "code",
   "execution_count": 43,
   "id": "3ecbed5d",
   "metadata": {
    "scrolled": true
   },
   "outputs": [
    {
     "data": {
      "image/png": "[encoded data removed]",
      "text/plain": [
       "<Figure size 1200x800 with 1 Axes>"
      ]
     },
     "metadata": {},
     "output_type": "display_data"
    }
   ],
   "source": [
    "# A display of the model's performance\n",
    "test = test.iloc[length:]\n",
    "fig, ax = plt.subplots(figsize=(12, 8))\n",
    "test.plot(ax=ax)\n",
    "fig.savefig('plot_v2.png')"
   ]
  },
  {
   "cell_type": "code",
   "execution_count": 44,
   "id": "b4e2efcd",
   "metadata": {},
   "outputs": [
    {
     "data": {
      "text/plain": [
       "3.6752778694447055"
      ]
     },
     "execution_count": 44,
     "metadata": {},
     "output_type": "execute_result"
    }
   ],
   "source": [
    "np.sqrt(mean_squared_error(test['Close'], test['gru_model_predictions']))"
   ]
  },
  {
   "cell_type": "code",
   "execution_count": 45,
   "id": "0c1c3b90",
   "metadata": {},
   "outputs": [
    {
     "data": {
      "text/plain": [
       "3.048151181995738"
      ]
     },
     "execution_count": 45,
     "metadata": {},
     "output_type": "execute_result"
    }
   ],
   "source": [
    "mean_absolute_error(test['Close'], test['gru_model_predictions'])"
   ]
  },
  {
   "cell_type": "code",
   "execution_count": 46,
   "id": "e4a71e10",
   "metadata": {},
   "outputs": [
    {
     "data": {
      "text/plain": [
       "3.2121897946221543"
      ]
     },
     "execution_count": 46,
     "metadata": {},
     "output_type": "execute_result"
    }
   ],
   "source": [
    "np.sqrt(mean_squared_error(test['Close'], test['lstm_model_predictions']))"
   ]
  },
  {
   "cell_type": "code",
   "execution_count": 47,
   "id": "445a5cd5",
   "metadata": {},
   "outputs": [
    {
     "data": {
      "text/plain": [
       "2.623788103176653"
      ]
     },
     "execution_count": 47,
     "metadata": {},
     "output_type": "execute_result"
    }
   ],
   "source": [
    "mean_absolute_error(test['Close'], test['lstm_model_predictions'])"
   ]
  },
  {
   "cell_type": "markdown",
   "id": "cfcec936",
   "metadata": {},
   "source": [
    "# Outcome"
   ]
  },
  {
   "cell_type": "markdown",
   "id": "728fff50",
   "metadata": {},
   "source": [
    "In both models, LSTM and GRU, the results were similar and very accurate.\n",
    "\n",
    "Given that Gru provided better results, we will continue to work with him."
   ]
  },
  {
   "cell_type": "code",
   "execution_count": 50,
   "id": "a6b1dc79",
   "metadata": {},
   "outputs": [],
   "source": [
    "gru_model.save('gru_model.h5')"
   ]
  },
  {
   "cell_type": "code",
   "execution_count": 51,
   "id": "30e3d066",
   "metadata": {},
   "outputs": [
    {
     "data": {
      "text/plain": [
       "['gru_scalar.pkl']"
      ]
     },
     "execution_count": 51,
     "metadata": {},
     "output_type": "execute_result"
    }
   ],
   "source": [
    "joblib.dump(scaler,'gru_scalar.pkl')"
   ]
  }
 ],
 "metadata": {
  "kernelspec": {
   "display_name": "Python 3 (ipykernel)",
   "language": "python",
   "name": "python3"
  },
  "language_info": {
   "codemirror_mode": {
    "name": "ipython",
    "version": 3
   },
   "file_extension": ".py",
   "mimetype": "text/x-python",
   "name": "python",
   "nbconvert_exporter": "python",
   "pygments_lexer": "ipython3",
   "version": "3.10.9"
  }
 },
 "nbformat": 4,
 "nbformat_minor": 5
}
